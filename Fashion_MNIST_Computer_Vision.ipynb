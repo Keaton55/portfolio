{
  "nbformat": 4,
  "nbformat_minor": 0,
  "metadata": {
    "colab": {
      "provenance": [],
      "authorship_tag": "ABX9TyMTVscQlL6RgTTVzCbMzB16",
      "include_colab_link": true
    },
    "kernelspec": {
      "name": "python3",
      "display_name": "Python 3"
    },
    "language_info": {
      "name": "python"
    }
  },
  "cells": [
    {
      "cell_type": "markdown",
      "metadata": {
        "id": "view-in-github",
        "colab_type": "text"
      },
      "source": [
        "<a href=\"https://colab.research.google.com/github/Keaton55/portfolio/blob/main/Fashion_MNIST_Computer_Vision.ipynb\" target=\"_parent\"><img src=\"https://colab.research.google.com/assets/colab-badge.svg\" alt=\"Open In Colab\"/></a>"
      ]
    },
    {
      "cell_type": "code",
      "source": [
        "# Importing libraries\n",
        "import torch\n",
        "import torchvision\n",
        "import numpy as np\n",
        "from torchvision.transforms import ToTensor\n",
        "from matplotlib import pyplot as plt"
      ],
      "metadata": {
        "id": "zIFDo8UwDWky"
      },
      "execution_count": null,
      "outputs": []
    },
    {
      "cell_type": "code",
      "execution_count": null,
      "metadata": {
        "id": "-d9mSyVFDNip"
      },
      "outputs": [],
      "source": [
        "# Download Data\n",
        "train = torchvision.datasets.FashionMNIST(\n",
        "    root = 'data',\n",
        "    train = True,\n",
        "    transform = ToTensor(),\n",
        "    download = True,\n",
        ")\n",
        "\n",
        "test = torchvision.datasets.FashionMNIST(\n",
        "    root = 'data',\n",
        "    train = False,\n",
        "    transform = ToTensor(),\n",
        "    download = True,\n",
        ")"
      ]
    },
    {
      "cell_type": "code",
      "source": [
        "print(f'Train has {len(train)} samples and the shape of the individual samples are {train[0][0].size()}')\n",
        "print(f'Test has {len(test)} samples and the shape of the individual samples are {test[0][0].size()}')"
      ],
      "metadata": {
        "colab": {
          "base_uri": "https://localhost:8080/"
        },
        "id": "9TXvB6UmDgGM",
        "outputId": "9287d129-6d88-4955-d8bf-e7e55702e0f6"
      },
      "execution_count": null,
      "outputs": [
        {
          "output_type": "stream",
          "name": "stdout",
          "text": [
            "Train has 60000 samples and the shape of the individual samples are torch.Size([1, 28, 28])\n",
            "Test has 10000 samples and the shape of the individual samples are torch.Size([1, 28, 28])\n"
          ]
        }
      ]
    },
    {
      "cell_type": "code",
      "source": [
        "# Lets Take a look at the first train image\n",
        "\n",
        "plt.imshow(train[0][0].squeeze(),cmap='gray')\n",
        "plt.axis(False)\n",
        "plt.show()"
      ],
      "metadata": {
        "colab": {
          "base_uri": "https://localhost:8080/",
          "height": 406
        },
        "id": "XQAocDNODjkY",
        "outputId": "3c27e6ff-02b1-4654-ca7e-ced1493b8f62"
      },
      "execution_count": null,
      "outputs": [
        {
          "output_type": "display_data",
          "data": {
            "text/plain": [
              "<Figure size 640x480 with 1 Axes>"
            ],
            "image/png": "[encoded data removed]"
          },
          "metadata": {}
        }
      ]
    },
    {
      "cell_type": "code",
      "source": [
        "print(f'There are {len(train.classes)} classes which are {train.classes}')"
      ],
      "metadata": {
        "colab": {
          "base_uri": "https://localhost:8080/"
        },
        "id": "mr1Cq2zJDphY",
        "outputId": "4c8c30e5-7d8d-4b45-8b05-6a2afccb7a03"
      },
      "execution_count": null,
      "outputs": [
        {
          "output_type": "stream",
          "name": "stdout",
          "text": [
            "There are 10 classes which are ['T-shirt/top', 'Trouser', 'Pullover', 'Dress', 'Coat', 'Sandal', 'Shirt', 'Sneaker', 'Bag', 'Ankle boot']\n"
          ]
        }
      ]
    },
    {
      "cell_type": "code",
      "source": [
        "# Preparing the Dataloader to put our data into batches\n",
        "\n",
        "from torch.utils.data import DataLoader\n",
        "\n",
        "train_batches = DataLoader(dataset = train,\n",
        "                           batch_size = 32,\n",
        "                           shuffle = True,\n",
        "                           )\n",
        "\n",
        "test_batches = DataLoader(dataset = test,\n",
        "                          batch_size = 32,\n",
        "                          shuffle = False)"
      ],
      "metadata": {
        "id": "Pdy9RA8YDsCj"
      },
      "execution_count": null,
      "outputs": []
    },
    {
      "cell_type": "code",
      "source": [
        "print(f'The size of the batches are {len(next(iter(next(iter(train_batches)))))}, there are {len(train_batches)} train batches and {len(test_batches)} test batches.')"
      ],
      "metadata": {
        "colab": {
          "base_uri": "https://localhost:8080/"
        },
        "id": "thpbGVDBDtvy",
        "outputId": "1499601e-286f-49f2-c1c8-ec39a8cb5299"
      },
      "execution_count": null,
      "outputs": [
        {
          "output_type": "stream",
          "name": "stdout",
          "text": [
            "The size of the batches are 32, there are 1875 train batches and 313 test batches.\n"
          ]
        }
      ]
    },
    {
      "cell_type": "code",
      "source": [
        "# We can start building our Model, we are going to be replicating the TinyVGG architecture\n",
        "from torch import nn\n",
        "HIDDEN_UNITS = 10\n",
        "\n",
        "class TinyVGG_1(nn.Module):\n",
        "  def __init__(self):\n",
        "    super().__init__()\n",
        "\n",
        "\n",
        "    self.conv_stack_0 = nn.Sequential(\n",
        "        nn.Conv2d(in_channels = 1, out_channels = HIDDEN_UNITS,kernel_size = 3,stride = 1, padding = 1),\n",
        "        nn.ReLU(),\n",
        "        nn.Conv2d(in_channels = HIDDEN_UNITS,out_channels = HIDDEN_UNITS, kernel_size = 3, stride = 1, padding = 1),\n",
        "        nn.ReLU(),\n",
        "        nn.MaxPool2d(kernel_size = 2, stride = 2)\n",
        "    )\n",
        "\n",
        "    self.conv_stack_1 = nn.Sequential(\n",
        "        nn.Conv2d(in_channels = HIDDEN_UNITS, out_channels = HIDDEN_UNITS, kernel_size = 3, stride = 1, padding = 1),\n",
        "        nn.ReLU(),\n",
        "        nn.Conv2d(in_channels = HIDDEN_UNITS, out_channels = HIDDEN_UNITS, kernel_size = 3, stride = 1, padding = 1),\n",
        "        nn.ReLU(),\n",
        "        nn.MaxPool2d(kernel_size = 2, stride = 2)\n",
        "    )\n",
        "\n",
        "    self.Classifier = nn.Sequential(\n",
        "        nn.Flatten(),\n",
        "        nn.Linear(in_features = 490 ,out_features = 10)\n",
        "        )\n",
        "\n",
        "  def forward(self, x):\n",
        "    x = self.conv_stack_0(x)\n",
        "    x = self.conv_stack_1(x)\n",
        "    return self.Classifier(x)\n",
        "\n",
        "\n",
        "model_1 = TinyVGG_1()"
      ],
      "metadata": {
        "id": "O_UzQ8MPDvne"
      },
      "execution_count": null,
      "outputs": []
    },
    {
      "cell_type": "code",
      "source": [
        "# Predictions from the model before the training loop using random weights\n",
        "model_1.eval()\n",
        "with torch.inference_mode():\n",
        "  preds = []\n",
        "  for i in range(1,10):\n",
        "    logits = model_1(train[i][0].unsqueeze(dim=0))\n",
        "    probs = torch.softmax(logits,1)\n",
        "    pred = torch.argmax(probs,1)\n",
        "    preds.append(pred)\n",
        "\n",
        "fig = plt.figure(figsize = (13,11))\n",
        "model_1.eval()\n",
        "with torch.inference_mode():\n",
        "  for i in range(1,10):\n",
        "    logits = model_1(train[i][0].unsqueeze(dim=0))\n",
        "    pred = logits.argmax(dim = 1)\n",
        "    truth = train[i][1]\n",
        "    fig.add_subplot(3,3,i)\n",
        "    plt.imshow(train[i][0].squeeze(),cmap = 'gray')\n",
        "    if pred == truth:\n",
        "      plt.title(f'Prediction : {train.classes[pred]} | Truth : {train.classes[truth]}',c = 'green')\n",
        "    else:\n",
        "      plt.title(f'Prediction : {train.classes[pred]} | Truth : {train.classes[truth]}', c = 'red')\n",
        "    plt.axis(False)"
      ],
      "metadata": {
        "colab": {
          "base_uri": "https://localhost:8080/",
          "height": 906
        },
        "id": "BZSwsUxnDy23",
        "outputId": "ca292861-1cfb-4c1e-9992-9a358bb3aea2"
      },
      "execution_count": null,
      "outputs": [
        {
          "output_type": "display_data",
          "data": {
            "text/plain": [
              "<Figure size 1300x1100 with 9 Axes>"
            ],
            "image/png": "[encoded data removed]"
          },
          "metadata": {}
        }
      ]
    },
    {
      "cell_type": "code",
      "source": [
        "# Set up device agnostic code\n",
        "device = 'cuda' if torch.cuda.is_available() else 'cpu'"
      ],
      "metadata": {
        "id": "1-ouNgGyEteF"
      },
      "execution_count": null,
      "outputs": []
    },
    {
      "cell_type": "code",
      "source": [
        "from torch.nn.modules.loss import CrossEntropyLoss\n",
        "# loss fuction and optimizer\n",
        "loss_fn = nn.CrossEntropyLoss().to(device)\n",
        "\n",
        "optimizer = torch.optim.SGD(\n",
        "    params = model_1.parameters(),\n",
        "    lr = .01\n",
        ")"
      ],
      "metadata": {
        "id": "Oisiwp3qEvfN"
      },
      "execution_count": null,
      "outputs": []
    },
    {
      "cell_type": "code",
      "source": [
        "# create an accuracy function\n",
        "def accuracy(predictions,actual):\n",
        "  accuracy = predictions == actual\n",
        "\n",
        "  return torch.sum(accuracy)/len(accuracy)"
      ],
      "metadata": {
        "id": "4tkQMWICExPl"
      },
      "execution_count": null,
      "outputs": []
    },
    {
      "cell_type": "code",
      "source": [
        "# Now for the training loop\n",
        "EPOCHS = 50\n",
        "\n",
        "# put the model on the device\n",
        "model_1.to(device)\n",
        "\n",
        "#run through train batches\n",
        "for epoch in range(EPOCHS):\n",
        "\n",
        "  model_1.train()\n",
        "\n",
        "  train_loss = 0\n",
        "  # enumerate through batches\n",
        "  for i , (X,y) in enumerate(train_batches):\n",
        "\n",
        "    X = X.to(device)\n",
        "    y = y.to(device)\n",
        "\n",
        "    # forward pass\n",
        "    logits = model_1(X)\n",
        "\n",
        "    # Calculate loss\n",
        "    loss = loss_fn(logits,y)\n",
        "    train_loss += loss_fn(logits,y)\n",
        "\n",
        "    # optimizer zero grad\n",
        "    optimizer.zero_grad()\n",
        "\n",
        "    # loss backwards\n",
        "    loss.backward()\n",
        "\n",
        "    # optimizer step\n",
        "    optimizer.step()\n",
        "\n",
        "  train_loss /= len(train_batches)\n",
        "\n",
        "  # testing\n",
        "  test_loss = 0\n",
        "  test_accuracy = 0\n",
        "  for X, y in test_batches:\n",
        "    X = X.to(device)\n",
        "    y = y.to(device)\n",
        "\n",
        "    model_1.eval()\n",
        "\n",
        "    with torch.inference_mode():\n",
        "      test_logits = model_1(X)\n",
        "\n",
        "    test_loss += loss_fn(test_logits,y)\n",
        "    test_preds = test_logits.argmax(dim=1)\n",
        "    test_accuracy += accuracy(test_preds,y)\n",
        "\n",
        "  test_loss /= len(test_batches)\n",
        "  test_accuracy /= len(test_batches)\n",
        "\n",
        "  print(f'Epoch : {epoch} | Train Loss : {train_loss : .5f} | Test Loss : {test_loss : .5f} | Test Accuracy : {test_accuracy : .5f}')"
      ],
      "metadata": {
        "colab": {
          "base_uri": "https://localhost:8080/",
          "height": 572
        },
        "id": "_giRj34AEyt4",
        "outputId": "658a2c0b-ebf5-47cf-c627-ee73dc0d2ea8"
      },
      "execution_count": null,
      "outputs": [
        {
          "output_type": "stream",
          "name": "stdout",
          "text": [
            "Epoch : 0 | Train Loss :  1.06336 | Test Loss :  0.59888 | Test Accuracy :  0.78524\n",
            "Epoch : 1 | Train Loss :  0.52081 | Test Loss :  0.48049 | Test Accuracy :  0.83466\n",
            "Epoch : 2 | Train Loss :  0.44031 | Test Loss :  0.42849 | Test Accuracy :  0.84964\n",
            "Epoch : 3 | Train Loss :  0.39597 | Test Loss :  0.40356 | Test Accuracy :  0.85533\n",
            "Epoch : 4 | Train Loss :  0.36664 | Test Loss :  0.36762 | Test Accuracy :  0.87181\n",
            "Epoch : 5 | Train Loss :  0.34542 | Test Loss :  0.36846 | Test Accuracy :  0.86971\n",
            "Epoch : 6 | Train Loss :  0.33189 | Test Loss :  0.35647 | Test Accuracy :  0.87540\n",
            "Epoch : 7 | Train Loss :  0.32004 | Test Loss :  0.33733 | Test Accuracy :  0.87939\n",
            "Epoch : 8 | Train Loss :  0.31167 | Test Loss :  0.32186 | Test Accuracy :  0.88608\n",
            "Epoch : 9 | Train Loss :  0.30393 | Test Loss :  0.34330 | Test Accuracy :  0.87480\n"
          ]
        },
        {
          "output_type": "error",
          "ename": "KeyboardInterrupt",
          "evalue": "ignored",
          "traceback": [
            "\u001b[0;31m---------------------------------------------------------------------------\u001b[0m",
            "\u001b[0;31mKeyboardInterrupt\u001b[0m                         Traceback (most recent call last)",
            "\u001b[0;32m<ipython-input-28-a3b5d74898ba>\u001b[0m in \u001b[0;36m<cell line: 8>\u001b[0;34m()\u001b[0m\n\u001b[1;32m     28\u001b[0m \u001b[0;34m\u001b[0m\u001b[0m\n\u001b[1;32m     29\u001b[0m     \u001b[0;31m# loss backwards\u001b[0m\u001b[0;34m\u001b[0m\u001b[0;34m\u001b[0m\u001b[0m\n\u001b[0;32m---> 30\u001b[0;31m     \u001b[0mloss\u001b[0m\u001b[0;34m.\u001b[0m\u001b[0mbackward\u001b[0m\u001b[0;34m(\u001b[0m\u001b[0;34m)\u001b[0m\u001b[0;34m\u001b[0m\u001b[0;34m\u001b[0m\u001b[0m\n\u001b[0m\u001b[1;32m     31\u001b[0m \u001b[0;34m\u001b[0m\u001b[0m\n\u001b[1;32m     32\u001b[0m     \u001b[0;31m# optimizer step\u001b[0m\u001b[0;34m\u001b[0m\u001b[0;34m\u001b[0m\u001b[0m\n",
            "\u001b[0;32m/usr/local/lib/python3.10/dist-packages/torch/_tensor.py\u001b[0m in \u001b[0;36mbackward\u001b[0;34m(self, gradient, retain_graph, create_graph, inputs)\u001b[0m\n\u001b[1;32m    485\u001b[0m                 \u001b[0minputs\u001b[0m\u001b[0;34m=\u001b[0m\u001b[0minputs\u001b[0m\u001b[0;34m,\u001b[0m\u001b[0;34m\u001b[0m\u001b[0;34m\u001b[0m\u001b[0m\n\u001b[1;32m    486\u001b[0m             )\n\u001b[0;32m--> 487\u001b[0;31m         torch.autograd.backward(\n\u001b[0m\u001b[1;32m    488\u001b[0m             \u001b[0mself\u001b[0m\u001b[0;34m,\u001b[0m \u001b[0mgradient\u001b[0m\u001b[0;34m,\u001b[0m \u001b[0mretain_graph\u001b[0m\u001b[0;34m,\u001b[0m \u001b[0mcreate_graph\u001b[0m\u001b[0;34m,\u001b[0m \u001b[0minputs\u001b[0m\u001b[0;34m=\u001b[0m\u001b[0minputs\u001b[0m\u001b[0;34m\u001b[0m\u001b[0;34m\u001b[0m\u001b[0m\n\u001b[1;32m    489\u001b[0m         )\n",
            "\u001b[0;32m/usr/local/lib/python3.10/dist-packages/torch/autograd/__init__.py\u001b[0m in \u001b[0;36mbackward\u001b[0;34m(tensors, grad_tensors, retain_graph, create_graph, grad_variables, inputs)\u001b[0m\n\u001b[1;32m    198\u001b[0m     \u001b[0;31m# some Python versions print out the first line of a multi-line function\u001b[0m\u001b[0;34m\u001b[0m\u001b[0;34m\u001b[0m\u001b[0m\n\u001b[1;32m    199\u001b[0m     \u001b[0;31m# calls in the traceback and some print out the last line\u001b[0m\u001b[0;34m\u001b[0m\u001b[0;34m\u001b[0m\u001b[0m\n\u001b[0;32m--> 200\u001b[0;31m     Variable._execution_engine.run_backward(  # Calls into the C++ engine to run the backward pass\n\u001b[0m\u001b[1;32m    201\u001b[0m         \u001b[0mtensors\u001b[0m\u001b[0;34m,\u001b[0m \u001b[0mgrad_tensors_\u001b[0m\u001b[0;34m,\u001b[0m \u001b[0mretain_graph\u001b[0m\u001b[0;34m,\u001b[0m \u001b[0mcreate_graph\u001b[0m\u001b[0;34m,\u001b[0m \u001b[0minputs\u001b[0m\u001b[0;34m,\u001b[0m\u001b[0;34m\u001b[0m\u001b[0;34m\u001b[0m\u001b[0m\n\u001b[1;32m    202\u001b[0m         allow_unreachable=True, accumulate_grad=True)  # Calls into the C++ engine to run the backward pass\n",
            "\u001b[0;31mKeyboardInterrupt\u001b[0m: "
          ]
        }
      ]
    },
    {
      "cell_type": "code",
      "source": [
        "fig = plt.figure(figsize = (13,11))\n",
        "model_1.eval()\n",
        "with torch.inference_mode():\n",
        "  for i in range(1,10):\n",
        "    rand = torch.randint(1,len(test),size = (1,),dtype = torch.int)[0]\n",
        "    logits = model_1(test[rand][0].to(device).unsqueeze(dim=0))\n",
        "    test_pred = logits.argmax(dim=1)\n",
        "    real = test[rand][1]\n",
        "    fig.add_subplot(3,3,i)\n",
        "    plt.imshow(test[rand][0].squeeze(dim=0),cmap = 'gray')\n",
        "\n",
        "    if test_pred == real:\n",
        "      plt.title(f'Prediction: {test.classes[test_pred]} | Actual : {test.classes[real]}', c='green')\n",
        "    else:\n",
        "      plt.title(f'Prediction: {test.classes[test_pred]} | Actual : {test.classes[real]}', c = 'red')\n",
        "\n",
        "    plt.axis(False)\n",
        "\n",
        "  plt.show()"
      ],
      "metadata": {
        "id": "5XscSb3jE2G6"
      },
      "execution_count": null,
      "outputs": []
    },
    {
      "cell_type": "code",
      "source": [
        "# Plotting a confusion matrix\n",
        "from torchmetrics import ConfusionMatrix\n",
        "from mlxtend.plotting import plot_confusion_matrix\n",
        "\n",
        "confmat = ConfusionMatrix(task = 'multiclass',num_classes = 10,)\n",
        "\n",
        "test_preds = torch.empty(0)\n",
        "test_actuals = torch.empty(0)\n",
        "\n",
        "model_1.eval()\n",
        "with torch.inference_mode():\n",
        "  for X , y in test_batches:\n",
        "    X = X.to(device)\n",
        "    y = y.to(device)\n",
        "\n",
        "    logits = model_1(X)\n",
        "    test_preds = torch.cat((test_preds,logits.argmax(dim=1).to('cpu')),0)\n",
        "    test_actuals = torch.cat((test_actuals,y.to('cpu')),0)\n",
        "\n",
        "\n",
        "matrix = confmat(torch.tensor(test_preds),torch.tensor(test_actuals),)\n",
        "fig,ax = plot_confusion_matrix(matrix.numpy(),figsize = (10,10))\n",
        "\n",
        "ticks = np.arange(0,len(train.classes),1)\n",
        "\n",
        "ax.set_xticks(ticks,train.classes)\n",
        "ax.set_yticks(ticks,train.classes)\n",
        "\n",
        "plt.show()"
      ],
      "metadata": {
        "id": "8inOoOgnE36Z"
      },
      "execution_count": null,
      "outputs": []
    },
    {
      "cell_type": "markdown",
      "source": [
        "The confusion matrix shows that our model struggles with the shirt label. While looking a few images and the class labels, it's obvious that the data some of the data labels have overlap that is confusing the model. For example it predicts T-shirt/top when the acutal is a shirt. The model's accuracy levels out at around 40-50 epochs at around 90.5%, increasing epochs doesn't seem to lower the test loss or accuracy much or at all. Way's we could improve the model would be to adjust the hyperparameters in the conv and maxpooling layers as well as creating a deeper neural net.  "
      ],
      "metadata": {
        "id": "pEEsCMB-F8s-"
      }
    },
    {
      "cell_type": "code",
      "source": [],
      "metadata": {
        "id": "TepBTfQQHomM"
      },
      "execution_count": null,
      "outputs": []
    }
  ]
}