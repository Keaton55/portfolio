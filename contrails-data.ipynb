{
 "cells": [
  {
   "cell_type": "code",
   "execution_count": 1,
   "id": "e9fe7e30",
   "metadata": {
    "_cell_guid": "b1076dfc-b9ad-4769-8c92-a6c4dae69d19",
    "_uuid": "8f2839f25d086af736a60e9eeb907d3b93b6e0e5",
    "execution": {
     "iopub.execute_input": "2023-08-04T20:18:24.464447Z",
     "iopub.status.busy": "2023-08-04T20:18:24.464012Z",
     "iopub.status.idle": "2023-08-04T20:18:28.262260Z",
     "shell.execute_reply": "2023-08-04T20:18:28.260892Z"
    },
    "papermill": {
     "duration": 3.805658,
     "end_time": "2023-08-04T20:18:28.265288",
     "exception": false,
     "start_time": "2023-08-04T20:18:24.459630",
     "status": "completed"
    },
    "tags": []
   },
   "outputs": [],
   "source": [
    "import numpy as np \n",
    "import pandas as pd \n",
    "import json\n",
    "import re\n",
    "import matplotlib.pyplot as plt\n",
    "import os\n",
    "import torch\n",
    "from torch import nn \n",
    "import pathlib\n",
    "import glob\n",
    "from tqdm.notebook import tqdm"
   ]
  },
  {
   "cell_type": "code",
   "execution_count": 2,
   "id": "bec9c175",
   "metadata": {
    "execution": {
     "iopub.execute_input": "2023-08-04T20:18:28.272026Z",
     "iopub.status.busy": "2023-08-04T20:18:28.271462Z",
     "iopub.status.idle": "2023-08-04T20:18:28.278450Z",
     "shell.execute_reply": "2023-08-04T20:18:28.276803Z"
    },
    "papermill": {
     "duration": 0.013308,
     "end_time": "2023-08-04T20:18:28.281103",
     "exception": false,
     "start_time": "2023-08-04T20:18:28.267795",
     "status": "completed"
    },
    "tags": []
   },
   "outputs": [],
   "source": [
    "def read_record(record_id,directory):\n",
    "    record_data = {}\n",
    "    for x in ['band_11','band_14','band_15','human_pixel_masks']:\n",
    "        record_data[x] = np.load(os.path.join(directory,record_id,x + '.npy'))\n",
    "        \n",
    "    return record_data\n",
    "            "
   ]
  },
  {
   "cell_type": "code",
   "execution_count": 3,
   "id": "ac5303da",
   "metadata": {
    "execution": {
     "iopub.execute_input": "2023-08-04T20:18:28.287614Z",
     "iopub.status.busy": "2023-08-04T20:18:28.287191Z",
     "iopub.status.idle": "2023-08-04T20:18:28.293973Z",
     "shell.execute_reply": "2023-08-04T20:18:28.292625Z"
    },
    "papermill": {
     "duration": 0.012522,
     "end_time": "2023-08-04T20:18:28.296116",
     "exception": false,
     "start_time": "2023-08-04T20:18:28.283594",
     "status": "completed"
    },
    "tags": []
   },
   "outputs": [],
   "source": [
    "base_dir = '/kaggle/input/google-research-identify-contrails-reduce-global-warming'\n",
    "\n",
    "\n",
    "_T11_BOUNDS = (243,303)\n",
    "_CLOUD_TOP_TDIFF_BOUNDS = (-4,5)\n",
    "_TDIFF_BOUNDS = (-4,2)\n",
    "\n",
    "def normalize_range(data,bounds):\n",
    "    return (data-bounds[0]) / (bounds[1] - bounds[0])\n",
    "\n",
    "N_TIMES_BEFORE = 4\n"
   ]
  },
  {
   "cell_type": "code",
   "execution_count": 4,
   "id": "6a60d66b",
   "metadata": {
    "execution": {
     "iopub.execute_input": "2023-08-04T20:18:28.302271Z",
     "iopub.status.busy": "2023-08-04T20:18:28.301907Z",
     "iopub.status.idle": "2023-08-04T20:18:28.307734Z",
     "shell.execute_reply": "2023-08-04T20:18:28.306653Z"
    },
    "papermill": {
     "duration": 0.011434,
     "end_time": "2023-08-04T20:18:28.309979",
     "exception": false,
     "start_time": "2023-08-04T20:18:28.298545",
     "status": "completed"
    },
    "tags": []
   },
   "outputs": [],
   "source": [
    "def get_false_color(record_data):\n",
    "    r = normalize_range(record['band_15'] - record['band_14'],_TDIFF_BOUNDS)\n",
    "    g = normalize_range(record['band_14'] - record['band_11'],_CLOUD_TOP_TDIFF_BOUNDS)\n",
    "    b = normalize_range(record['band_14'],_T11_BOUNDS)\n",
    "\n",
    "    false_color = np.clip(np.stack([r,g,b],axis=2),0,1)\n",
    "    img = false_color[...,N_TIMES_BEFORE]\n",
    "    \n",
    "    return img"
   ]
  },
  {
   "cell_type": "code",
   "execution_count": 5,
   "id": "d7894569",
   "metadata": {
    "execution": {
     "iopub.execute_input": "2023-08-04T20:18:28.316961Z",
     "iopub.status.busy": "2023-08-04T20:18:28.316482Z",
     "iopub.status.idle": "2023-08-04T20:50:24.989038Z",
     "shell.execute_reply": "2023-08-04T20:50:24.985407Z"
    },
    "papermill": {
     "duration": 1916.68088,
     "end_time": "2023-08-04T20:50:24.993622",
     "exception": false,
     "start_time": "2023-08-04T20:18:28.312742",
     "status": "completed"
    },
    "tags": []
   },
   "outputs": [
    {
     "data": {
      "application/vnd.jupyter.widget-view+json": {
       "model_id": "b60a1130ead74ed98e2365ab67da8089",
       "version_major": 2,
       "version_minor": 0
      },
      "text/plain": [
       "0it [00:00, ?it/s]"
      ]
     },
     "metadata": {},
     "output_type": "display_data"
    }
   ],
   "source": [
    "train_path = os.path.join(base_dir, 'train')\n",
    "train = {}\n",
    "new_path = pathlib.Path('Train')\n",
    "new_path.mkdir(exist_ok = True, parents = True)\n",
    "\n",
    "for dirpath, paths, filenames in tqdm(os.walk(train_path)):\n",
    "    for path in paths:\n",
    "        record = read_record(path,dirpath)\n",
    "        img = get_false_color(record)\n",
    "        final = np.dstack((img,record['human_pixel_masks']))\n",
    "        final = final.astype(np.float16)\n",
    "        \n",
    "        pathc = f'{new_path}/{path}.npy'\n",
    "        np.save(pathc,final)"
   ]
  },
  {
   "cell_type": "code",
   "execution_count": 6,
   "id": "44660485",
   "metadata": {
    "execution": {
     "iopub.execute_input": "2023-08-04T20:50:25.003881Z",
     "iopub.status.busy": "2023-08-04T20:50:25.003379Z",
     "iopub.status.idle": "2023-08-04T20:53:27.884604Z",
     "shell.execute_reply": "2023-08-04T20:53:27.883403Z"
    },
    "papermill": {
     "duration": 182.891964,
     "end_time": "2023-08-04T20:53:27.890001",
     "exception": false,
     "start_time": "2023-08-04T20:50:24.998037",
     "status": "completed"
    },
    "tags": []
   },
   "outputs": [],
   "source": [
    "valid_path = os.path.join(base_dir,'validation')\n",
    "new_valid_path = pathlib.Path('Valid')\n",
    "new_valid_path.mkdir(exist_ok = True, parents = True)\n",
    "\n",
    "for dirpath, paths , filenames in os.walk(valid_path):\n",
    "    for path in paths:\n",
    "        record = read_record(path,dirpath)\n",
    "        img = get_false_color(record)\n",
    "        final = np.dstack((img,record['human_pixel_masks']))\n",
    "        final.astype(np.float16)\n",
    "        \n",
    "        pathc = f'{new_valid_path}/{path}.npy'\n",
    "        np.save(pathc,final)\n",
    "        "
   ]
  },
  {
   "cell_type": "code",
   "execution_count": null,
   "id": "10a7cdec",
   "metadata": {
    "papermill": {
     "duration": 0.002135,
     "end_time": "2023-08-04T20:53:27.899148",
     "exception": false,
     "start_time": "2023-08-04T20:53:27.897013",
     "status": "completed"
    },
    "tags": []
   },
   "outputs": [],
   "source": []
  }
 ],
 "metadata": {
  "kernelspec": {
   "display_name": "Python 3",
   "language": "python",
   "name": "python3"
  },
  "language_info": {
   "codemirror_mode": {
    "name": "ipython",
    "version": 3
   },
   "file_extension": ".py",
   "mimetype": "text/x-python",
   "name": "python",
   "nbconvert_exporter": "python",
   "pygments_lexer": "ipython3",
   "version": "3.10.12"
  },
  "papermill": {
   "default_parameters": {},
   "duration": 2114.332236,
   "end_time": "2023-08-04T20:53:29.838085",
   "environment_variables": {},
   "exception": null,
   "input_path": "__notebook__.ipynb",
   "output_path": "__notebook__.ipynb",
   "parameters": {},
   "start_time": "2023-08-04T20:18:15.505849",
   "version": "2.4.0"
  },
  "widgets": {
   "application/vnd.jupyter.widget-state+json": {
    "state": {
     "23efe5a8a4b14e4baae4d3bb29ceace6": {
      "model_module": "@jupyter-widgets/controls",
      "model_module_version": "1.5.0",
      "model_name": "DescriptionStyleModel",
      "state": {
       "_model_module": "@jupyter-widgets/controls",
       "_model_module_version": "1.5.0",
       "_model_name": "DescriptionStyleModel",
       "_view_count": null,
       "_view_module": "@jupyter-widgets/base",
       "_view_module_version": "1.2.0",
       "_view_name": "StyleView",
       "description_width": ""
      }
     },
     "258413d10c544eafac209506b73dbacc": {
      "model_module": "@jupyter-widgets/controls",
      "model_module_version": "1.5.0",
      "model_name": "ProgressStyleModel",
      "state": {
       "_model_module": "@jupyter-widgets/controls",
       "_model_module_version": "1.5.0",
       "_model_name": "ProgressStyleModel",
       "_view_count": null,
       "_view_module": "@jupyter-widgets/base",
       "_view_module_version": "1.2.0",
       "_view_name": "StyleView",
       "bar_color": null,
       "description_width": ""
      }
     },
     "39c18982f7a0425d81ddd99d86bd4dbf": {
      "model_module": "@jupyter-widgets/base",
      "model_module_version": "1.2.0",
      "model_name": "LayoutModel",
      "state": {
       "_model_module": "@jupyter-widgets/base",
       "_model_module_version": "1.2.0",
       "_model_name": "LayoutModel",
       "_view_count": null,
       "_view_module": "@jupyter-widgets/base",
       "_view_module_version": "1.2.0",
       "_view_name": "LayoutView",
       "align_content": null,
       "align_items": null,
       "align_self": null,
       "border": null,
       "bottom": null,
       "display": null,
       "flex": null,
       "flex_flow": null,
       "grid_area": null,
       "grid_auto_columns": null,
       "grid_auto_flow": null,
       "grid_auto_rows": null,
       "grid_column": null,
       "grid_gap": null,
       "grid_row": null,
       "grid_template_areas": null,
       "grid_template_columns": null,
       "grid_template_rows": null,
       "height": null,
       "justify_content": null,
       "justify_items": null,
       "left": null,
       "margin": null,
       "max_height": null,
       "max_width": null,
       "min_height": null,
       "min_width": null,
       "object_fit": null,
       "object_position": null,
       "order": null,
       "overflow": null,
       "overflow_x": null,
       "overflow_y": null,
       "padding": null,
       "right": null,
       "top": null,
       "visibility": null,
       "width": null
      }
     },
     "3f229e6939874bfc8421a1073e2f276f": {
      "model_module": "@jupyter-widgets/controls",
      "model_module_version": "1.5.0",
      "model_name": "HTMLModel",
      "state": {
       "_dom_classes": [],
       "_model_module": "@jupyter-widgets/controls",
       "_model_module_version": "1.5.0",
       "_model_name": "HTMLModel",
       "_view_count": null,
       "_view_module": "@jupyter-widgets/controls",
       "_view_module_version": "1.5.0",
       "_view_name": "HTMLView",
       "description": "",
       "description_tooltip": null,
       "layout": "IPY_MODEL_39c18982f7a0425d81ddd99d86bd4dbf",
       "placeholder": "​",
       "style": "IPY_MODEL_4b565424bfb943fcbab4b792d2fb8b6d",
       "value": ""
      }
     },
     "4b565424bfb943fcbab4b792d2fb8b6d": {
      "model_module": "@jupyter-widgets/controls",
      "model_module_version": "1.5.0",
      "model_name": "DescriptionStyleModel",
      "state": {
       "_model_module": "@jupyter-widgets/controls",
       "_model_module_version": "1.5.0",
       "_model_name": "DescriptionStyleModel",
       "_view_count": null,
       "_view_module": "@jupyter-widgets/base",
       "_view_module_version": "1.2.0",
       "_view_name": "StyleView",
       "description_width": ""
      }
     },
     "80d84feef1894b77b0f2a98463397030": {
      "model_module": "@jupyter-widgets/base",
      "model_module_version": "1.2.0",
      "model_name": "LayoutModel",
      "state": {
       "_model_module": "@jupyter-widgets/base",
       "_model_module_version": "1.2.0",
       "_model_name": "LayoutModel",
       "_view_count": null,
       "_view_module": "@jupyter-widgets/base",
       "_view_module_version": "1.2.0",
       "_view_name": "LayoutView",
       "align_content": null,
       "align_items": null,
       "align_self": null,
       "border": null,
       "bottom": null,
       "display": null,
       "flex": null,
       "flex_flow": null,
       "grid_area": null,
       "grid_auto_columns": null,
       "grid_auto_flow": null,
       "grid_auto_rows": null,
       "grid_column": null,
       "grid_gap": null,
       "grid_row": null,
       "grid_template_areas": null,
       "grid_template_columns": null,
       "grid_template_rows": null,
       "height": null,
       "justify_content": null,
       "justify_items": null,
       "left": null,
       "margin": null,
       "max_height": null,
       "max_width": null,
       "min_height": null,
       "min_width": null,
       "object_fit": null,
       "object_position": null,
       "order": null,
       "overflow": null,
       "overflow_x": null,
       "overflow_y": null,
       "padding": null,
       "right": null,
       "top": null,
       "visibility": null,
       "width": null
      }
     },
     "a66606a6f03642dcb25960ed13db7c86": {
      "model_module": "@jupyter-widgets/controls",
      "model_module_version": "1.5.0",
      "model_name": "HTMLModel",
      "state": {
       "_dom_classes": [],
       "_model_module": "@jupyter-widgets/controls",
       "_model_module_version": "1.5.0",
       "_model_name": "HTMLModel",
       "_view_count": null,
       "_view_module": "@jupyter-widgets/controls",
       "_view_module_version": "1.5.0",
       "_view_name": "HTMLView",
       "description": "",
       "description_tooltip": null,
       "layout": "IPY_MODEL_bef95d23b50b44c8bcba154bfc25b904",
       "placeholder": "​",
       "style": "IPY_MODEL_23efe5a8a4b14e4baae4d3bb29ceace6",
       "value": " 20530/? [31:56&lt;00:00, 180.12it/s]"
      }
     },
     "b60a1130ead74ed98e2365ab67da8089": {
      "model_module": "@jupyter-widgets/controls",
      "model_module_version": "1.5.0",
      "model_name": "HBoxModel",
      "state": {
       "_dom_classes": [],
       "_model_module": "@jupyter-widgets/controls",
       "_model_module_version": "1.5.0",
       "_model_name": "HBoxModel",
       "_view_count": null,
       "_view_module": "@jupyter-widgets/controls",
       "_view_module_version": "1.5.0",
       "_view_name": "HBoxView",
       "box_style": "",
       "children": [
        "IPY_MODEL_3f229e6939874bfc8421a1073e2f276f",
        "IPY_MODEL_c82c987d556841e89ee10134e411dd9c",
        "IPY_MODEL_a66606a6f03642dcb25960ed13db7c86"
       ],
       "layout": "IPY_MODEL_80d84feef1894b77b0f2a98463397030"
      }
     },
     "bef95d23b50b44c8bcba154bfc25b904": {
      "model_module": "@jupyter-widgets/base",
      "model_module_version": "1.2.0",
      "model_name": "LayoutModel",
      "state": {
       "_model_module": "@jupyter-widgets/base",
       "_model_module_version": "1.2.0",
       "_model_name": "LayoutModel",
       "_view_count": null,
       "_view_module": "@jupyter-widgets/base",
       "_view_module_version": "1.2.0",
       "_view_name": "LayoutView",
       "align_content": null,
       "align_items": null,
       "align_self": null,
       "border": null,
       "bottom": null,
       "display": null,
       "flex": null,
       "flex_flow": null,
       "grid_area": null,
       "grid_auto_columns": null,
       "grid_auto_flow": null,
       "grid_auto_rows": null,
       "grid_column": null,
       "grid_gap": null,
       "grid_row": null,
       "grid_template_areas": null,
       "grid_template_columns": null,
       "grid_template_rows": null,
       "height": null,
       "justify_content": null,
       "justify_items": null,
       "left": null,
       "margin": null,
       "max_height": null,
       "max_width": null,
       "min_height": null,
       "min_width": null,
       "object_fit": null,
       "object_position": null,
       "order": null,
       "overflow": null,
       "overflow_x": null,
       "overflow_y": null,
       "padding": null,
       "right": null,
       "top": null,
       "visibility": null,
       "width": null
      }
     },
     "c8035641b1554702a52ee81870b3ba60": {
      "model_module": "@jupyter-widgets/base",
      "model_module_version": "1.2.0",
      "model_name": "LayoutModel",
      "state": {
       "_model_module": "@jupyter-widgets/base",
       "_model_module_version": "1.2.0",
       "_model_name": "LayoutModel",
       "_view_count": null,
       "_view_module": "@jupyter-widgets/base",
       "_view_module_version": "1.2.0",
       "_view_name": "LayoutView",
       "align_content": null,
       "align_items": null,
       "align_self": null,
       "border": null,
       "bottom": null,
       "display": null,
       "flex": null,
       "flex_flow": null,
       "grid_area": null,
       "grid_auto_columns": null,
       "grid_auto_flow": null,
       "grid_auto_rows": null,
       "grid_column": null,
       "grid_gap": null,
       "grid_row": null,
       "grid_template_areas": null,
       "grid_template_columns": null,
       "grid_template_rows": null,
       "height": null,
       "justify_content": null,
       "justify_items": null,
       "left": null,
       "margin": null,
       "max_height": null,
       "max_width": null,
       "min_height": null,
       "min_width": null,
       "object_fit": null,
       "object_position": null,
       "order": null,
       "overflow": null,
       "overflow_x": null,
       "overflow_y": null,
       "padding": null,
       "right": null,
       "top": null,
       "visibility": null,
       "width": "20px"
      }
     },
     "c82c987d556841e89ee10134e411dd9c": {
      "model_module": "@jupyter-widgets/controls",
      "model_module_version": "1.5.0",
      "model_name": "FloatProgressModel",
      "state": {
       "_dom_classes": [],
       "_model_module": "@jupyter-widgets/controls",
       "_model_module_version": "1.5.0",
       "_model_name": "FloatProgressModel",
       "_view_count": null,
       "_view_module": "@jupyter-widgets/controls",
       "_view_module_version": "1.5.0",
       "_view_name": "ProgressView",
       "bar_style": "success",
       "description": "",
       "description_tooltip": null,
       "layout": "IPY_MODEL_c8035641b1554702a52ee81870b3ba60",
       "max": 1.0,
       "min": 0.0,
       "orientation": "horizontal",
       "style": "IPY_MODEL_258413d10c544eafac209506b73dbacc",
       "value": 1.0
      }
     }
    },
    "version_major": 2,
    "version_minor": 0
   }
  }
 },
 "nbformat": 4,
 "nbformat_minor": 5
}
